{
 "cells": [
  {
   "cell_type": "markdown",
   "metadata": {},
   "source": [
    "# Big Data Platform\n",
    "## Assignment 2: MapReduce"
   ]
  },
  {
   "cell_type": "markdown",
   "metadata": {},
   "source": [
    "**The goal of this assignment is to:**\n",
    "- Understand and practice the details of MapReduceEngine\n",
    "\n",
    "**Instructions:**\n",
    "- Students will form teams of two people each, and submit a single homework for each team.\n",
    "- The same score for the homework will be given to each member of your team.\n",
    "- Your solution is in the form of a Jupyter notebook file (with extension ipynb).\n",
    "- Images/Graphs/Tables should be submitted inside the notebook.\n",
    "- The notebook should be runnable and properly documented. \n",
    "- Please answer all the questions and include all your code.\n",
    "- You are expected to submit a clear and pythonic code.\n",
    "- You can change functions signatures/definitions.\n",
    "\n",
    "**Submission:**\n",
    "- Submission of the homework will be done via Moodle by uploading a Jupyter notebook.\n",
    "- The homework needs to be entirely in English.\n",
    "- The deadline for submission is on Moodle.\n",
    "- Late submission won't be allowed.\n",
    "  \n",
    "  \n",
    "- In case of identical code submissions - both groups will get a Zero. \n",
    "- Some groups might be selected randomly to present their code.\n",
    "\n",
    "**Requirements:**  \n",
    "- Python 3.6 should be used.  \n",
    "- You should implement the algorithms by yourself using only basic Python libraries (such as numpy,pandas,etc.)\n",
    "\n",
    "<br><br><br><br>"
   ]
  },
  {
   "cell_type": "markdown",
   "metadata": {},
   "source": [
    "**Grading:**\n",
    "- Q1 - 5 points - Initial Steps\n",
    "- Q2 - 50 points - MapReduceEngine\n",
    "- Q3 - 30 points - Implement the MapReduce Inverted index of the JSON documents\n",
    "- Q4 - 5 points - Testing Your MapReduce\n",
    "- Q5 - 10 points - Final Thoughts \n",
    "\n",
    "`Total: 100`"
   ]
  },
  {
   "cell_type": "markdown",
   "metadata": {},
   "source": [
    "**Prerequisites**"
   ]
  },
  {
   "cell_type": "code",
   "execution_count": 1,
   "metadata": {},
   "outputs": [],
   "source": [
    "# example\n",
    "!pip install --quiet zipfile36"
   ]
  },
  {
   "cell_type": "markdown",
   "metadata": {},
   "source": [
    "**Imports**"
   ]
  },
  {
   "cell_type": "code",
   "execution_count": 2,
   "metadata": {},
   "outputs": [],
   "source": [
    "# general\n",
    "import os\n",
    "import time\n",
    "import random\n",
    "import warnings\n",
    "import threading # you can use easier threading packages\n",
    "\n",
    "# ml\n",
    "import numpy as np\n",
    "import scipy as sp\n",
    "import pandas as pd\n",
    "\n",
    "# visual\n",
    "import seaborn as sns\n",
    "import matplotlib.pyplot as plt\n",
    "\n",
    "# notebook\n",
    "from IPython.display import display"
   ]
  },
  {
   "cell_type": "markdown",
   "metadata": {},
   "source": [
    "**Hide Warnings**"
   ]
  },
  {
   "cell_type": "code",
   "execution_count": 3,
   "metadata": {},
   "outputs": [],
   "source": [
    "warnings.filterwarnings('ignore')"
   ]
  },
  {
   "cell_type": "markdown",
   "metadata": {},
   "source": [
    "**Disable Autoscrolling**"
   ]
  },
  {
   "cell_type": "code",
   "execution_count": 4,
   "metadata": {},
   "outputs": [
    {
     "data": {
      "application/javascript": [
       "IPython.OutputArea.prototype._should_scroll = function(lines) {\n",
       "    return false;\n",
       "}\n"
      ],
      "text/plain": [
       "<IPython.core.display.Javascript object>"
      ]
     },
     "metadata": {},
     "output_type": "display_data"
    }
   ],
   "source": [
    "%%javascript\n",
    "IPython.OutputArea.prototype._should_scroll = function(lines) {\n",
    "    return false;\n",
    "}"
   ]
  },
  {
   "cell_type": "markdown",
   "metadata": {},
   "source": [
    "**Set Random Seed**"
   ]
  },
  {
   "cell_type": "code",
   "execution_count": 5,
   "metadata": {},
   "outputs": [],
   "source": [
    "random.seed(123)"
   ]
  },
  {
   "cell_type": "markdown",
   "metadata": {},
   "source": [
    "<br><br><br><br>\n",
    "# Question 1\n",
    "# Initial Steps\n",
    "\n",
    "Write Python code to create 20 different CSV files in this format:  `myCSV[Number].csv`, where each file contains 10 records. \n",
    "\n",
    "The schema is `(‘firstname’,’secondname’,city’)`  \n",
    "\n",
    "Values should be randomly chosen from the lists: \n",
    "- `firstname` : `[John, Dana, Scott, Marc, Steven, Michael, Albert, Johanna]`  \n",
    "- `city` : `[New York, Haifa, München, London, Palo Alto,  Tel Aviv, Kiel, Hamburg]`  \n",
    "- `secondname`: any value  "
   ]
  },
  {
   "cell_type": "code",
   "execution_count": 6,
   "metadata": {},
   "outputs": [],
   "source": [
    "#generates random last names of chosen length\n",
    "def get_second_name(length):\n",
    "    import string\n",
    "    \n",
    "    upper = string.ascii_uppercase\n",
    "    lower = string.ascii_lowercase\n",
    "    first = random.choice(upper)\n",
    "    partial = ''.join(random.choice(lower) for i in range(length-1))\n",
    "    \n",
    "    return first + partial"
   ]
  },
  {
   "cell_type": "code",
   "execution_count": 7,
   "metadata": {},
   "outputs": [],
   "source": [
    "#function to create the 20 requested csv files\n",
    "def create_20_files():\n",
    "    for num in range(20):\n",
    "        df = pd.DataFrame(index=range(10), columns=range(3))\n",
    "        df.columns = ['firstname', 'secondname', 'city']\n",
    "        firstname = ['John', 'Dana', 'Scott', 'Marc', 'Steven', 'Michael', 'Albert', 'Johanna']\n",
    "        df['firstname'] = np.random.choice(firstname, len(df))\n",
    "        df['secondname'] = np.random.randint(4, 7, size=len(df))\n",
    "        df['secondname'] = df['secondname'].apply(lambda x: get_second_name(x))\n",
    "        city = ['NewYork', 'Haifa', 'Munchen', 'London', 'PaloAlto',  'TelAviv', 'Kiel', 'Hamburg']\n",
    "        df['city'] = np.random.choice(city, len(df))\n",
    "        filename = \"myCSV\" + str(num+1) + \".csv\"\n",
    "        df.to_csv(filename, encoding='utf', index=False)      "
   ]
  },
  {
   "cell_type": "code",
   "execution_count": 8,
   "metadata": {},
   "outputs": [],
   "source": [
    "#creates the files\n",
    "create_20_files()"
   ]
  },
  {
   "cell_type": "markdown",
   "metadata": {},
   "source": [
    "Use python to Create `mapreducetemp` and `mapreducefinal` folders"
   ]
  },
  {
   "cell_type": "code",
   "execution_count": 9,
   "metadata": {},
   "outputs": [],
   "source": [
    "#function to create folders\n",
    "def create_folder(pathname):\n",
    "    if not os.path.exists(pathname):\n",
    "        os.makedirs(pathname)"
   ]
  },
  {
   "cell_type": "code",
   "execution_count": 10,
   "metadata": {},
   "outputs": [],
   "source": [
    "#creates folders mapreducetemp and mapreducefinal\n",
    "create_folder('./mapreducetemp')\n",
    "create_folder('./mapreducefinal')"
   ]
  },
  {
   "cell_type": "markdown",
   "metadata": {},
   "source": [
    "<br><br><br>\n",
    "# Question 2\n",
    "## MapReduceEngine"
   ]
  },
  {
   "cell_type": "markdown",
   "metadata": {},
   "source": [
    "Write Python code to create an SQLite database with the following table\n",
    "\n",
    "`TableName: temp_results`   \n",
    "`schema: (key:TEXT,value:TEXT)`"
   ]
  },
  {
   "cell_type": "code",
   "execution_count": 11,
   "metadata": {},
   "outputs": [],
   "source": [
    "import sqlite3\n",
    "\n",
    "def create_sqlite_db(pathname):\n",
    "    conn = sqlite3.connect(pathname)\n",
    "    cursor = conn.cursor()\n",
    "    cursor.execute(\"CREATE TABLE IF NOT EXISTS temp_results (key TEXT, value TEXT)\")"
   ]
  },
  {
   "cell_type": "code",
   "execution_count": 12,
   "metadata": {},
   "outputs": [],
   "source": [
    "#create sqlite database with table temp_results\n",
    "create_sqlite_db('./mapreddb')"
   ]
  },
  {
   "cell_type": "markdown",
   "metadata": {},
   "source": [
    "1. **Create a Python class** `MapReduceEngine` with method `def execute(input_data, map_function, reduce_function)`, such that:\n",
    "    - `input_data`: is an array of elements\n",
    "    - `map_function`: is a pointer to the Python function that returns a list where each entry of the form (key,value) \n",
    "    - `reduce_function`: is pointer to the Python function that returns a list where each entry of the form (key,value)\n",
    "\n",
    "<br><br>\n",
    "\n",
    "**Implement** the following functionality in the `execute(...)` function:\n",
    "\n",
    "<br>\n",
    "\n",
    "1. For each key  from the  input_data, start a new Python thread that executes map_function(key) \n",
    "<br><br>\n",
    "2. Each thread will store results of the map_function into mapreducetemp/part-tmp-X.csv where X is a unique number per each thread.\n",
    "<br><br>\n",
    "3. Keep the list of all threads and check whether they are completed.\n",
    "<br><br>\n",
    "4. Once all threads completed, load content of all CSV files into the temp_results table in SQLite.\n",
    "\n",
    "    Remark: Easiest way to loop over all CSV files and load them into Pandas first, then load into SQLite  \n",
    "    `data = pd.read_csv(path to csv)`  \n",
    "    `data.to_sql(‘temp_results’,sql_conn, if_exists=’append’,index=False)`\n",
    "<br><br>\n",
    "\n",
    "5. **Write SQL statement** that generates a sorted list by key of the form `(key, value)` where value is concatenation of ALL values in the value column that match specific key. For example, if table has records\n",
    "<table>\n",
    "    <tbody>\n",
    "            <tr>\n",
    "                <td style=\"text-align:center\">John</td>\n",
    "                <td style=\"text-align:center\">myCSV1.csv</td>\n",
    "            </tr>\n",
    "            <tr>\n",
    "                <td style=\"text-align:center\">Dana</td>\n",
    "                <td style=\"text-align:center\">myCSV5.csv</td>\n",
    "            </tr>\n",
    "            <tr>\n",
    "                <td style=\"text-align:center\">John</td>\n",
    "                <td style=\"text-align:center\">myCSV7.csv</td>\n",
    "            </tr>\n",
    "    </tbody>\n",
    "</table>\n",
    "\n",
    "    Then SQL statement will return `(‘John’,’myCSV1.csv, myCSV7.csv’)`  \n",
    "    Remark: use GROUP_CONCAT and also GROUP BY ORDER BY\n",
    "<br><br><br>\n",
    "6. **Start a new thread** for each value from the generated list in the previous step, to execute `reduce_function(key,value)` \n",
    "<br>    \n",
    "7. Each thread will store results of reduce_function into `mapreducefinal/part-X-final.csv` file  \n",
    "<br>\n",
    "8. Keep list of all threads and check whether they are completed  \n",
    "<br>\n",
    "9. Once all threads completed, print on the screen `MapReduce Completed` otherwise print `MapReduce Failed` \n",
    "\n"
   ]
  },
  {
   "cell_type": "code",
   "execution_count": 13,
   "metadata": {},
   "outputs": [],
   "source": [
    "# implement all of the class here\n",
    "import threading\n",
    "import csv\n",
    "\n",
    "class MapReduceEngine():\n",
    "    \n",
    "    \n",
    "    def store_tmp_results(self, func, data, idx, pathname, params):\n",
    "            result = func(data, params)\n",
    "            with open(pathname.format(idx), 'w', encoding='UTF8', newline='') as f:\n",
    "                writer = csv.writer(f)\n",
    "                writer.writerow(['key', \"value\"])\n",
    "                writer.writerows(result)\n",
    "                \n",
    "    def load_csv_to_tempdb(self, pathname):\n",
    "            conn = sqlite3.connect('./mapreddb')\n",
    "            data = pd.read_csv('./mapreducetemp/{}'.format(pathname))\n",
    "            data.to_sql('temp_results', conn, if_exists='append', index=False)\n",
    "            \n",
    "    def sorted_list(self):\n",
    "            query = \"\"\"\n",
    "            SELECT key, GROUP_CONCAT(value)\n",
    "            FROM temp_results\n",
    "            GROUP BY key\n",
    "            ORDER BY key\n",
    "            \"\"\"\n",
    "            conn = sqlite3.connect('./mapreddb')\n",
    "            curs = conn.cursor()\n",
    "            curs.execute(query)\n",
    "            return curs.fetchall()\n",
    "        \n",
    "    def store_fin_results(self, func, key, val, idx, pathname):\n",
    "            result = func(key, val)\n",
    "            with open(pathname.format(idx), 'w', encoding='UTF8', newline='') as f:\n",
    "                writer = csv.writer(f)\n",
    "                writer.writerow(['key', 'value'])\n",
    "                writer.writerows([(result[0], result[1])])\n",
    "    \n",
    "    \n",
    "    def execute(self, input_data, map_function, reduce_function, params):\n",
    "        \n",
    "        column_index = params['column'] - 1\n",
    "        \n",
    "        m_threads = []\n",
    "        \n",
    "        for i in range(len(input_data)): \n",
    "            thread = threading.Thread(target=self.store_tmp_results, args=(map_function, \n",
    "                                                                      input_data[i], i, \n",
    "                                                                      './mapreducetemp/part-tmp-{}.csv',\n",
    "                                                                      column_index))\n",
    "            thread.start()\n",
    "            m_threads.append(thread)\n",
    "            \n",
    "        for m_thread in m_threads:\n",
    "            thread.join()\n",
    "            \n",
    "        m_alive = [t for t in m_threads if t.is_alive()]\n",
    "        \n",
    "        if len(m_alive) == 0:\n",
    "            for file in os.listdir(\"./mapreducetemp\"):\n",
    "                self.load_csv_to_tempdb(file)\n",
    "        else:\n",
    "            return (\"MapReduce Failed\")\n",
    "        \n",
    "        s_list = self.sorted_list()\n",
    "        \n",
    "        r_threads = []\n",
    "        \n",
    "        for i in range(len(s_list)):\n",
    "            r_thread = threading.Thread(target=self.store_fin_results, args=(reduce_function, \n",
    "                                                                           s_list[i][0], \n",
    "                                                                           s_list[i][1],\n",
    "                                                                           i,\n",
    "                                                                           './mapreducefinal/part-{}-final.csv'))\n",
    "            \n",
    "            r_thread.start()\n",
    "            r_threads.append(r_thread)\n",
    "    \n",
    "        for r_thread in r_threads:\n",
    "            r_thread.join()\n",
    "        \n",
    "        r_alive = [rt for rt in r_threads if rt.is_alive()]\n",
    "        \n",
    "        if len(r_alive) == 0:\n",
    "            message = \"MapReduce Completed\"\n",
    "        else: \n",
    "            message = \"MapReduce Failed\"\n",
    "            \n",
    "        \n",
    "        return (\"MapReduce Completed\")\n",
    "    \n",
    "    "
   ]
  },
  {
   "cell_type": "markdown",
   "metadata": {},
   "source": [
    "<br><br><br><br>\n",
    "\n",
    "# Question 3\n",
    "## Implement the MapReduce Inverted index of the JSON documents"
   ]
  },
  {
   "cell_type": "markdown",
   "metadata": {},
   "source": [
    "Implement a function `inverted_map(document_name)` which reads the CSV document from the local disc and return a list that contains entries of the form (key_value, document name).\n",
    "\n",
    "For example, if myCSV4.csv document has values like:  \n",
    "`{‘firstname’:’John’,‘secondname’:’Rambo’,‘city’:’Palo Alto’}`\n",
    "\n",
    "Then `inverted_map(‘myCSV4.csv’)` function will return a list:  \n",
    "`[(‘firstname_John’,’ myCSV4.csv’),(‘secondname_Rambo’,’ myCSV4.csv’), (‘city_Palo Alto’,’ myCSV4.csv’)]`"
   ]
  },
  {
   "cell_type": "code",
   "execution_count": 14,
   "metadata": {},
   "outputs": [],
   "source": [
    "def inverted_map(document_name, column_index):\n",
    "    list_kv = []\n",
    "    data = pd.read_csv('./{}'.format(document_name))\n",
    "    for entry in data[data.columns[column_index]].values:\n",
    "        list_kv.append([entry, document_name])\n",
    "        \n",
    "    return list_kv\n",
    "    "
   ]
  },
  {
   "cell_type": "markdown",
   "metadata": {},
   "source": [
    "# Write a reduce function `inverted_reduce(value, documents)`, where the field “documents” contains a list of all CSV documents per given value.   \n",
    "This list might have duplicates.   \n",
    "Reduce function will return new list without duplicates.\n",
    "\n",
    "For example,  \n",
    "calling the function `inverted_reduce(‘firstname_Albert’,’myCSV2.csv, myCSV5.csv,myCSV2.csv’)`   \n",
    "will return a list `[‘firstname_Albert’,’myCSV2.csv, myCSV5.csv,myCSV2.csv’]`"
   ]
  },
  {
   "cell_type": "code",
   "execution_count": 15,
   "metadata": {},
   "outputs": [],
   "source": [
    "def inverted_reduce(key, documents):\n",
    "    docs = documents.split(',')\n",
    "    no_duplicates = []\n",
    "    [no_duplicates.append(csv) for csv in docs if csv not in no_duplicates]\n",
    "    no_dupes = ','.join(no_duplicates)\n",
    "    \n",
    "    return [key, no_dupes]"
   ]
  },
  {
   "cell_type": "markdown",
   "metadata": {},
   "source": [
    "<br><br><br><br>\n",
    "# Question 4\n",
    "## Testing Your MapReduce\n",
    "\n",
    "**Create Python list** `input_data` : `[‘myCSV1.csv’,.. ,‘myCSV20.csv’]`"
   ]
  },
  {
   "cell_type": "code",
   "execution_count": 16,
   "metadata": {},
   "outputs": [],
   "source": [
    "input_data = ['myCSV{}.csv'.format(i) for i in range(1, 21)]"
   ]
  },
  {
   "cell_type": "markdown",
   "metadata": {},
   "source": [
    "**Submit MapReduce as follows:**"
   ]
  },
  {
   "cell_type": "code",
   "execution_count": 17,
   "metadata": {
    "scrolled": true
   },
   "outputs": [
    {
     "name": "stdout",
     "output_type": "stream",
     "text": [
      "MapReduce Completed\n"
     ]
    }
   ],
   "source": [
    "mapreduce = MapReduceEngine()\n",
    "status = mapreduce.execute(input_data, inverted_map, inverted_reduce, {\"column\":1})\n",
    "print(status)"
   ]
  },
  {
   "cell_type": "markdown",
   "metadata": {},
   "source": [
    "Make sure that `MapReduce Completed` should be printed and `mapreducefinal` folder should contain the result files."
   ]
  },
  {
   "cell_type": "markdown",
   "metadata": {},
   "source": [
    "**Use python to delete all temporary data from mapreducetemp folder and delete SQLite database:**"
   ]
  },
  {
   "cell_type": "code",
   "execution_count": 18,
   "metadata": {},
   "outputs": [],
   "source": [
    "def delete_tmp_data(path, dbpath):\n",
    "    for file in os.listdir(path):\n",
    "        os.remove(path + '/{}'.format(file))\n",
    "    \n",
    "    conn = sqlite3.connect(dbpath)\n",
    "    curs = conn.cursor()\n",
    "    curs.execute(\"DROP TABLE temp_results\")"
   ]
  },
  {
   "cell_type": "code",
   "execution_count": 19,
   "metadata": {},
   "outputs": [],
   "source": [
    "delete_tmp_data('./mapreducetemp', './mapreddb')\n"
   ]
  },
  {
   "cell_type": "markdown",
   "metadata": {},
   "source": [
    "<br><br><br><br>\n",
    "\n",
    "# Question 5\n",
    "# Final Thoughts\n",
    "\n",
    "The phase where `MapReduceEngine` reads all temporary files generated by maps and sort them to provide each reducer a specific key is called the **shuffle step**.\n",
    "\n",
    "Please explain **clearly** what would be the main problem of MapReduce when processing Big Data, if there is no shuffle step at all, meaning reducers will directly read responses from the mappers."
   ]
  },
  {
   "cell_type": "markdown",
   "metadata": {},
   "source": [
    "Answer:\n",
    "\n",
    "The shuffle step handles the process of transferring data from mappers to reducers, and makes MapReduce very efficient if implemented correctly.  Map outputs (key, value) pairs, and shuffle ensures that results from mapper that have the same key will be sent to the same reducer, which is necessary for the data to be reduced properly.  Without the shuffle, each reducer would read directly from each mapper, which would contain a mix of different keys. This means that each reducer would have to iterate through the mapper set and would not output a meaningful result.\n",
    "\n",
    "For example (with shuffle):\n",
    "\n",
    "(hot, 1)-----mapper 1\n",
    "\n",
    "(cold, 1)----- mapper 1\n",
    "\n",
    "(hot, 1) --- mapper 1\n",
    "\n",
    "(hot, 1)-----mapper 2\n",
    "\n",
    "(cold, 1) --- mapper 2\n",
    "\n",
    "(cold, 1)------mapper 2\n",
    "\n",
    "The shuffle step makes sure that:\n",
    "(hot,1), (hot,1), (hot,1) are grouped together & given to the same reducer-reducer 1.\n",
    "(cold,1), (cold,1), (cold,1) are grouped together & given to another reducer-reducer 2.\n",
    "\n",
    "Then the output from reducer 1 is (hot,3) and reducer 2 is (cold,3) which are easily grouped together as the final output.\n",
    "\n",
    "\n",
    "Without the shuffle step:\n",
    "(the results from mapper are the same)\n",
    "\n",
    "(hot, 1)-----mapper 1\n",
    "\n",
    "(cold, 1)----- mapper 1\n",
    "\n",
    "(hot, 1) --- mapper 1\n",
    "\n",
    "(hot, 1)-----mapper 2\n",
    "\n",
    "(cold, 1) --- mapper 2\n",
    "\n",
    "(cold, 1)------mapper 2\n",
    "\n",
    "The output would directly feed into the reducers without sorting -\n",
    "(hot,1),(cold, 1), (hot,1) are given to reducer 1 and\n",
    "(hot,1), (cold,1), (cold, 1) are given to reducer 2\n",
    "\n",
    "reducer 1 outputs (hot,2), (cold,1) and\n",
    "reducer 2 outputs (hot, 1), (cold,2)\n",
    "\n",
    "In this example, the data is only partially reduced.  One would have to initialize an additional sorting step after the reducers to get meaningul results. So in summary, without shuffle/sort, the output from the reducers is either partially reduced or not at all reduced since there is no re-sorting step after reducing.\n",
    "\n",
    "references: https://datascience.stackexchange.com/questions/11049/why-does-map-reduce-have-a-shuffle-step"
   ]
  },
  {
   "cell_type": "markdown",
   "metadata": {},
   "source": [
    "<br><br><br><br>\n",
    "Good Luck :)"
   ]
  }
 ],
 "metadata": {
  "kernelspec": {
   "display_name": "Python 3 (ipykernel)",
   "language": "python",
   "name": "python3"
  },
  "language_info": {
   "codemirror_mode": {
    "name": "ipython",
    "version": 3
   },
   "file_extension": ".py",
   "mimetype": "text/x-python",
   "name": "python",
   "nbconvert_exporter": "python",
   "pygments_lexer": "ipython3",
   "version": "3.9.12"
  }
 },
 "nbformat": 4,
 "nbformat_minor": 4
}
